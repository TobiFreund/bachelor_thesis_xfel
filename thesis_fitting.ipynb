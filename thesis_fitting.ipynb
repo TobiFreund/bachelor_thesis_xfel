{
 "cells": [
  {
   "cell_type": "code",
   "execution_count": 1,
   "id": "4c7953e2-fe88-43b3-a6bc-6dff9e53e888",
   "metadata": {},
   "outputs": [
    {
     "name": "stdout",
     "output_type": "stream",
     "text": [
      "Cupy is not installed in this environment, no access to the GPU\n"
     ]
    }
   ],
   "source": [
    "import matplotlib.pyplot as plt\n",
    "%matplotlib inline\n",
    "import numpy as np\n",
    "\n",
    "from hrixs_data import HrixsData\n",
    "from reflectivity import (\n",
    "    MaterialManager,\n",
    "    create_ml_model,\n",
    "    load_sample,\n",
    "    reflectivity_parrat,\n",
    "    theta_exp,\n",
    ")\n",
    "\n",
    "from scipy.optimize import curve_fit"
   ]
  },
  {
   "cell_type": "code",
   "execution_count": 2,
   "id": "a9f02e64-8c5d-4d4f-bbd3-71312dd4e496",
   "metadata": {},
   "outputs": [],
   "source": [
    "MaterialManager.add_material(\"B4C\", {\"B\": 4, \"C\": 1})\n",
    "MaterialManager.add_material(\"Cu\", {\"Cu\": 1})\n",
    "MaterialManager.add_material(\"SiC\", {\"Si\": 1, \"C\": 1})\n",
    "\n",
    "sample_data = load_sample(\"M-220706E1_Z_2\")\n",
    "mlm = create_ml_model(sample_data)\n",
    "mlm.set_multilayer_repetitions(\"body\", 15)\n",
    "mlm.get_sub_multilayer(\"body\").get_layer(\"Cu\").use_ERES = True"
   ]
  },
  {
   "cell_type": "code",
   "execution_count": 5,
   "id": "7913f7a7-3f52-45c3-9c84-e1c0c88ac0d8",
   "metadata": {},
   "outputs": [],
   "source": [
    "hd = HrixsData.get_run(214)\n",
    "\n",
    "# Used to reduce the data size\n",
    "def filter_energies(da):\n",
    "    return da.where(\n",
    "        (da.energy >= 910) & (da.energy <= 990),\n",
    "        drop = True\n",
    "    )\n",
    "\n",
    "# Used as a startng value. Precomputed, as it takes a while to calculate.\n",
    "normalization = float((max(hd.beam_spectrum) * max(np.abs(reflectivity_parrat(filter_energies(hd.ds).energy.data, mlm, theta_exp))**2)).values)"
   ]
  },
  {
   "cell_type": "markdown",
   "id": "e47c8fdd-44fc-4664-899e-149d3c37e118",
   "metadata": {},
   "source": [
    "## Fitting routines\n",
    "Routines to be used for fitting. Modular and can be expanded by specifying each entry."
   ]
  },
  {
   "cell_type": "code",
   "execution_count": 55,
   "id": "f91834e7-e84c-4848-9393-840e2b8051b4",
   "metadata": {},
   "outputs": [],
   "source": [
    "routines = {}\n",
    "fel_max_offset = 10\n",
    "\n",
    "# The scaling has to be the first parameter, as it still needs to be\n",
    "# multiplied by the maximum of the spectrum (see next section)\n",
    "\n",
    "# Fits cold runs\n",
    "def reflectivity_fitting_angle(energy_eV, scaling, fel_energy_offset, theta_2):\n",
    "    refl = np.abs(reflectivity_parrat(energy_eV, mlm, theta_2 / 2)) ** 2\n",
    "    return refl * hd.get_beam_spectrum_offset(fel_energy_offset, energy_eV) * scaling\n",
    "\n",
    "routines[\"angle\"] = {\n",
    "    \"fit_function\": reflectivity_fitting_angle,\n",
    "    \"start_vals\": [1/normalization, 0, 2*theta_exp],\n",
    "    \"bounds_low\": [0, -fel_max_offset, 2*theta_exp - 1],\n",
    "    \"bounds_high\": [np.inf, fel_max_offset, 2*theta_exp + 1],\n",
    "    \"parameters\": [\"Scaling\", \"FEL energy offset\", r\"$2\\theta$\"],\n",
    "    \"parameter_units\": [\"a.U.\", \"eV\", \"°\"],\n",
    "}\n",
    "\n",
    "\n",
    "# Also fits ERES parameters. Removed 2 theta (theta_2), as it seems not necessary here.\n",
    "def reflectivity_fitting_eres(energy_eV, scaling, fel_offset, f_eres, gamma2):\n",
    "    theta = 34\n",
    "    refl = np.abs(reflectivity_parrat(energy_eV, mlm, theta, f_eres, gamma2)) ** 2\n",
    "    return refl * hd.get_beam_spectrum_offset(fel_offset, energy_eV) * scaling\n",
    "\n",
    "routines[\"eres\"] = {\n",
    "    \"fit_function\": reflectivity_fitting_eres,\n",
    "    \"start_vals\": [1/normalization, 0, 1, 1],\n",
    "    \"bounds_low\": [0, -fel_max_offset, 0, 0],\n",
    "    \"bounds_high\": [np.inf, fel_max_offset, np.inf, np.inf],\n",
    "    \"parameters\": [\"Scaling\", \"FEL energy offset\", r\"$f_{ERES}$\", r\"$\\frac{\\gamma}{2}$\"],\n",
    "    \"parameter_units\": [\"a.U.\", \"eV\", \"1\", \"1\"]\n",
    "}"
   ]
  },
  {
   "cell_type": "code",
   "execution_count": 48,
   "id": "2f7c2612-73d2-4bbd-8629-14503b7622c9",
   "metadata": {},
   "outputs": [
    {
     "data": {
      "text/plain": [
       "{'fit_function': <function __main__.reflectivity_fitting_eres(energy_eV, scaling, fel_offset, f_eres, gamma2)>,\n",
       " 'start_vals': [5960.948727181874, 0, 1, 1],\n",
       " 'bounds_low': [0, -10, 0, 0],\n",
       " 'bounds_high': [inf, 10, inf, inf],\n",
       " 'parameters': ['Scaling',\n",
       "  'FEL energy offset',\n",
       "  '$f_{ERES}$',\n",
       "  '$\\\\frac{\\\\gamma}{2}$'],\n",
       " 'parameter_units': ['a.U.', 'eV', '1', '1']}"
      ]
     },
     "execution_count": 48,
     "metadata": {},
     "output_type": "execute_result"
    }
   ],
   "source": [
    "routine = \"eres\"\n",
    "routines[routine]"
   ]
  },
  {
   "cell_type": "markdown",
   "id": "5bcc4ea3-3f2c-4606-9282-bd213ab6e697",
   "metadata": {},
   "source": [
    "## Fitting"
   ]
  },
  {
   "cell_type": "code",
   "execution_count": 52,
   "id": "531032ed-5e7c-4069-be24-457837028bdd",
   "metadata": {},
   "outputs": [],
   "source": [
    "spectrum = filter_energies(hd.get_spectrum())\n",
    "\n",
    "# Copy needed to not modify the original values\n",
    "start_vals = routines[routine][\"start_vals\"].copy()\n",
    "start_vals[0] *= max(spectrum)\n",
    "\n",
    "popt, pcov = curve_fit(\n",
    "    routines[routine][\"fit_function\"],\n",
    "    spectrum.energy.data,\n",
    "    spectrum.data,\n",
    "    start_vals,\n",
    "    bounds=(\n",
    "        routines[routine][\"bounds_low\"],\n",
    "        routines[routine][\"bounds_high\"],\n",
    "    ),\n",
    ")"
   ]
  },
  {
   "cell_type": "code",
   "execution_count": 53,
   "id": "49c47f1e-dbd2-414b-b86e-60e2e9a94c68",
   "metadata": {},
   "outputs": [
    {
     "data": {
      "text/plain": [
       "(925.0, 940.0)"
      ]
     },
     "execution_count": 53,
     "metadata": {},
     "output_type": "execute_result"
    },
    {
     "data": {
      "image/png": "[encoded data removed]",
      "text/plain": [
       "<Figure size 432x288 with 1 Axes>"
      ]
     },
     "metadata": {
      "needs_background": "light"
     },
     "output_type": "display_data"
    }
   ],
   "source": [
    "fitted = routines[routine][\"fit_function\"](spectrum.energy.data, *popt)\n",
    "no_beam = np.abs(reflectivity_parrat(spectrum.energy.data, mlm, theta_exp))**2\n",
    "beam_spectrum = hd.get_beam_spectrum_offset(popt[1], spectrum.energy.data)\n",
    "\n",
    "plt.figure()\n",
    "plt.plot(spectrum.energy, spectrum, \".\", label=\"data\")\n",
    "plt.plot(spectrum.energy, fitted, label=\"fit\")\n",
    "plt.plot(spectrum.energy, no_beam * max(fitted) / max(no_beam), \":\", label=\"fitted reflectivity\")\n",
    "plt.plot(spectrum.energy, beam_spectrum * max(fitted) / max(beam_spectrum), \":\", label=\"fitted beam\")\n",
    "plt.xlabel(\"Energy [eV]\")\n",
    "plt.ylabel(r\"Intensity [$\\frac{counts}{\\mu J}$]\")\n",
    "plt.title(f\"Fit for run {hd.run_number}\")\n",
    "plt.legend()\n",
    "plt.xlim(925, 940)"
   ]
  },
  {
   "cell_type": "code",
   "execution_count": 54,
   "id": "bf7a5e82-1eea-43db-933b-52da14187fe0",
   "metadata": {},
   "outputs": [
    {
     "name": "stdout",
     "output_type": "stream",
     "text": [
      "Fit results:\n",
      "------------------------------\n",
      "Scaling: 57609 +- 404.51\n",
      "FEL energy offset: 4.775 +- 0.019107\n",
      "$f_{ERES}$: 7.84 +- 0.24002\n",
      "$\\frac{\\gamma}{2}$: 0.77247 +- 0.033707\n",
      "\n"
     ]
    },
    {
     "data": {
      "image/png": "[encoded data removed]",
      "text/plain": [
       "<Figure size 432x288 with 2 Axes>"
      ]
     },
     "metadata": {
      "needs_background": "light"
     },
     "output_type": "display_data"
    }
   ],
   "source": [
    "# Fitting results and correlation plot\n",
    "\n",
    "pcor = pcov.copy()\n",
    "for i in range(pcor.shape[0]):\n",
    "    for j in range(pcor.shape[1]):\n",
    "        pcor[i, j] /= np.sqrt(pcov[i, i] * pcov[j, j])\n",
    "\n",
    "plt.figure()\n",
    "plt.imshow(pcor, cmap=\"bwr\", vmin=-1, vmax=1)\n",
    "plt.colorbar()\n",
    "plt.tight_layout()\n",
    "plt.title(f\"Correlation for run {hd.run_number}\")\n",
    "plt.xticks(range(len(routines[routine][\"parameters\"])), routines[routine][\"parameters\"])\n",
    "plt.yticks(range(len(routines[routine][\"parameters\"])), routines[routine][\"parameters\"])\n",
    "\n",
    "print(\"Fit results:\")\n",
    "print(\"-\"*30)\n",
    "for i, (po, pn) in enumerate(zip(popt, routines[routine][\"parameters\"])):\n",
    "    print(f\"{pn}: {po:.5g} +- {np.sqrt(pcov[i, i]):.5g}\")\n",
    "print()"
   ]
  },
  {
   "cell_type": "code",
   "execution_count": null,
   "id": "889bf2cd-46a2-4c66-b008-d3bfffb28200",
   "metadata": {},
   "outputs": [],
   "source": []
  }
 ],
 "metadata": {
  "kernelspec": {
   "display_name": "SCS Toolbox (3154_dev)",
   "language": "python",
   "name": "toolbox_3154_dev"
  },
  "language_info": {
   "codemirror_mode": {
    "name": "ipython",
    "version": 3
   },
   "file_extension": ".py",
   "mimetype": "text/x-python",
   "name": "python",
   "nbconvert_exporter": "python",
   "pygments_lexer": "ipython3",
   "version": "3.9.16"
  }
 },
 "nbformat": 4,
 "nbformat_minor": 5
}
